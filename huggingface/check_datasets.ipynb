{
 "cells": [
  {
   "cell_type": "code",
   "execution_count": null,
   "metadata": {},
   "outputs": [],
   "source": [
    "from datasets import load_dataset\n",
    "\n",
    "dataset = load_dataset(\"EdwardSJ151/mario-1-2-land\")"
   ]
  },
  {
   "cell_type": "code",
   "execution_count": 2,
   "metadata": {},
   "outputs": [
    {
     "name": "stdout",
     "output_type": "stream",
     "text": [
      "DatasetDict({\n",
      "    str_horizontal_nosplit: Dataset({\n",
      "        features: ['conversations'],\n",
      "        num_rows: 7964\n",
      "    })\n",
      "    str_horizontal_newline: Dataset({\n",
      "        features: ['conversations'],\n",
      "        num_rows: 7964\n",
      "    })\n",
      "    str_horizontal_pipe: Dataset({\n",
      "        features: ['conversations'],\n",
      "        num_rows: 7964\n",
      "    })\n",
      "    str_vertical_nosplit: Dataset({\n",
      "        features: ['conversations'],\n",
      "        num_rows: 7964\n",
      "    })\n",
      "    str_vertical_newline: Dataset({\n",
      "        features: ['conversations'],\n",
      "        num_rows: 7964\n",
      "    })\n",
      "    str_vertical_pipe: Dataset({\n",
      "        features: ['conversations'],\n",
      "        num_rows: 7964\n",
      "    })\n",
      "})\n"
     ]
    }
   ],
   "source": [
    "print(dataset)"
   ]
  }
 ],
 "metadata": {
  "kernelspec": {
   "display_name": "BigVenv",
   "language": "python",
   "name": "python3"
  },
  "language_info": {
   "codemirror_mode": {
    "name": "ipython",
    "version": 3
   },
   "file_extension": ".py",
   "mimetype": "text/x-python",
   "name": "python",
   "nbconvert_exporter": "python",
   "pygments_lexer": "ipython3",
   "version": "3.11.10"
  }
 },
 "nbformat": 4,
 "nbformat_minor": 2
}
