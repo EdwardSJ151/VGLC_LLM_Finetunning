{
 "cells": [
  {
   "cell_type": "code",
   "execution_count": 1,
   "metadata": {},
   "outputs": [],
   "source": [
    "from inference_utils import extract_level_representation, fix_level_format\n",
    "from create_img import convert_kidicarus_to_png, convert_loderunner_to_png, convert_mario_to_png, convert_rainbowisland_to_png"
   ]
  },
  {
   "cell_type": "code",
   "execution_count": 2,
   "metadata": {},
   "outputs": [
    {
     "name": "stdout",
     "output_type": "stream",
     "text": [
      "🦥 Unsloth: Will patch your computer to enable 2x faster free finetuning.\n"
     ]
    },
    {
     "name": "stderr",
     "output_type": "stream",
     "text": [
      "/home/pressprexx/miniconda3/envs/unsloth/lib/python3.11/site-packages/tqdm/auto.py:21: TqdmWarning: IProgress not found. Please update jupyter and ipywidgets. See https://ipywidgets.readthedocs.io/en/stable/user_install.html\n",
      "  from .autonotebook import tqdm as notebook_tqdm\n"
     ]
    },
    {
     "name": "stdout",
     "output_type": "stream",
     "text": [
      "Unsloth: Failed to patch Gemma3ForConditionalGeneration.\n",
      "🦥 Unsloth Zoo will now patch everything to make training faster!\n"
     ]
    }
   ],
   "source": [
    "from unsloth import FastLanguageModel\n",
    "import torch\n",
    "import os\n",
    "from huggingface_hub import login\n",
    "from unsloth.chat_templates import get_chat_template\n",
    "from datasets import load_dataset\n",
    "from unsloth.chat_templates import standardize_sharegpt\n",
    "from trl import SFTTrainer\n",
    "from transformers import TrainingArguments, DataCollatorForSeq2Seq\n",
    "from unsloth import is_bfloat16_supported\n",
    "from unsloth.chat_templates import train_on_responses_only"
   ]
  },
  {
   "cell_type": "code",
   "execution_count": 3,
   "metadata": {},
   "outputs": [
    {
     "name": "stdout",
     "output_type": "stream",
     "text": [
      "<|im_start|>system\n",
      "You are Qwen, created by Alibaba Cloud. You are a helpful assistant.<|im_end|>\n",
      "<|im_start|>user\n",
      "Create a level<|im_end|>\n",
      "<|im_start|>assistant\n",
      "....BB..BB..BB..BB..BB..BB......\n",
      "....BB..BB..BB..BB..BB..BB......\n",
      "................................\n",
      "................................\n",
      "................................\n",
      "................................\n",
      "BBBBBBBBBBBB........BBBBBBBBBBBB\n",
      "BBBBBBBBBBBB........BBBBBBBBBBBB\n",
      "BBBB........................BBBB\n",
      "BBBB........................BBBB\n",
      "BBBB........................BBBB\n",
      "BBBB...BB......BB......BB...BBBB\n",
      ".......BB......BB......BB.......\n",
      "................................\n",
      "................................\n",
      "................................\n",
      "...BBBBBBBBBBBBBBBBBBBBBBBBBB...\n",
      "...BBBBBBBBBBBBBBBBBBBBBBBBBB...\n",
      "................................\n",
      "................................\n",
      "................................\n",
      "................................\n",
      "................................\n",
      ".........BB..BB..BB..BB.........\n",
      ".........BB..BB..BB..BB.........\n",
      "................................\n",
      "................................\n",
      "................................\n",
      "..........BB..BB..BB............\n",
      "..........BB..BB..BB............\n",
      "................................\n",
      "................................\n",
      "................................\n",
      "...........BB..BB..BB...........\n",
      "...........BB..BB..BB...............<|im_end|>\n"
     ]
    }
   ],
   "source": [
    "print(\"<|im_start|>system\\nYou are Qwen, created by Alibaba Cloud. You are a helpful assistant.<|im_end|>\\n<|im_start|>user\\nCreate a level<|im_end|>\\n<|im_start|>assistant\\n....BB..BB..BB..BB..BB..BB......\\n....BB..BB..BB..BB..BB..BB......\\n................................\\n................................\\n................................\\n................................\\nBBBBBBBBBBBB........BBBBBBBBBBBB\\nBBBBBBBBBBBB........BBBBBBBBBBBB\\nBBBB........................BBBB\\nBBBB........................BBBB\\nBBBB........................BBBB\\nBBBB...BB......BB......BB...BBBB\\n.......BB......BB......BB.......\\n................................\\n................................\\n................................\\n...BBBBBBBBBBBBBBBBBBBBBBBBBB...\\n...BBBBBBBBBBBBBBBBBBBBBBBBBB...\\n................................\\n................................\\n................................\\n................................\\n................................\\n.........BB..BB..BB..BB.........\\n.........BB..BB..BB..BB.........\\n................................\\n................................\\n................................\\n..........BB..BB..BB............\\n..........BB..BB..BB............\\n................................\\n................................\\n................................\\n...........BB..BB..BB...........\\n...........BB..BB..BB...............<|im_end|>\")"
   ]
  },
  {
   "cell_type": "code",
   "execution_count": 4,
   "metadata": {},
   "outputs": [],
   "source": [
    "save_model_name = \"../models/rainbow_islands/Qwen-2.5-14b-horizontal-newline-1epoch-rainbow_island-teste1\""
   ]
  },
  {
   "cell_type": "code",
   "execution_count": 5,
   "metadata": {},
   "outputs": [
    {
     "name": "stdout",
     "output_type": "stream",
     "text": [
      "==((====))==  Unsloth 2025.3.19: Fast Qwen2 patching. Transformers: 4.51.3.\n",
      "   \\\\   /|    NVIDIA GeForce RTX 4060 Ti. Num GPUs = 1. Max memory: 15.697 GB. Platform: Linux.\n",
      "O^O/ \\_/ \\    Torch: 2.6.0+cu124. CUDA: 8.9. CUDA Toolkit: 12.4. Triton: 3.2.0\n",
      "\\        /    Bfloat16 = TRUE. FA [Xformers = 0.0.29.post3. FA2 = False]\n",
      " \"-____-\"     Free license: http://github.com/unslothai/unsloth\n",
      "Unsloth: Fast downloading is enabled - ignore downloading bars which are red colored!\n"
     ]
    },
    {
     "name": "stderr",
     "output_type": "stream",
     "text": [
      "Loading checkpoint shards: 100%|██████████| 2/2 [00:01<00:00,  1.16it/s]\n",
      "Unsloth 2025.3.19 patched 48 layers with 48 QKV layers, 48 O layers and 48 MLP layers.\n"
     ]
    }
   ],
   "source": [
    "max_seq_length = 2048 # Choose any! We auto support RoPE Scaling internally!\n",
    "dtype = None # None for auto detection. Float16 for Tesla T4, V100, Bfloat16 for Ampere+\n",
    "load_in_4bit = True # Use 4bit quantization to reduce memory usage. Can be False.\n",
    "\n",
    "if True:\n",
    "    model, tokenizer = FastLanguageModel.from_pretrained(\n",
    "        model_name = save_model_name, # YOUR MODEL YOU USED FOR TRAINING\n",
    "        max_seq_length = max_seq_length,\n",
    "        dtype = dtype,\n",
    "        load_in_4bit = load_in_4bit,\n",
    "    )\n",
    "    FastLanguageModel.for_inference(model) # Enable native 2x faster inference"
   ]
  },
  {
   "cell_type": "code",
   "execution_count": 6,
   "metadata": {},
   "outputs": [
    {
     "name": "stderr",
     "output_type": "stream",
     "text": [
      "The attention mask is not set and cannot be inferred from input because pad token is same as eos token. As a consequence, you may observe unexpected behavior. Please pass your input's `attention_mask` to obtain reliable results.\n"
     ]
    }
   ],
   "source": [
    "messages = [\n",
    "    {\"role\": \"user\", \"content\": \"Create a level\"},\n",
    "]\n",
    "inputs = tokenizer.apply_chat_template(\n",
    "    messages,\n",
    "    tokenize = True,\n",
    "    add_generation_prompt = True, # Must add for generation\n",
    "    return_tensors = \"pt\",\n",
    ").to(\"cuda\")\n",
    "\n",
    "\n",
    "outputs = model.generate(input_ids = inputs, max_new_tokens = 512, use_cache = True,\n",
    "                         temperature = 1.2, min_p = 0.1)\n",
    "response = tokenizer.batch_decode(outputs)"
   ]
  },
  {
   "cell_type": "code",
   "execution_count": 7,
   "metadata": {},
   "outputs": [
    {
     "name": "stdout",
     "output_type": "stream",
     "text": [
      "<|im_start|>system\n",
      "You are Qwen, created by Alibaba Cloud. You are a helpful assistant.<|im_end|>\n",
      "<|im_start|>user\n",
      "Create a level<|im_end|>\n",
      "<|im_start|>assistant\n",
      "BBBBBB..........................\n",
      "BBBBBB..........................\n",
      "................................\n",
      "................................\n",
      "....BBBBBBBBBB..BBBBBBBBBBBB....\n",
      "....BBBBBBBBBB..BBBBBBBBBBBB....\n",
      "................................\n",
      "................................\n",
      "................................\n",
      "................................\n",
      "................................\n",
      "................................\n",
      ".........BBBBBBBBBBBBBB.........\n",
      ".........BBBBBBBBBBBBBB.........\n",
      ".........BB..........BB.........\n",
      ".........BB..........BB.........\n",
      ".........BB..........BB.........\n",
      ".........BB..........BB.........\n",
      "................................\n",
      "................................\n",
      "................................\n",
      "................................\n",
      "....BBBBBBBBBB..BBBBBBBBBBBB....\n",
      "....BBBBBBBBBB..BBBBBBBBBBBB....\n",
      "................................\n",
      "................................\n",
      "................................\n",
      "................................\n",
      "................................\n",
      ".........BBBBBBBBBBBBBB.........\n",
      ".........BBBBBBBBBBBBBB.........\n",
      ".........BB..........BB.........\n",
      ".........BB..........BB.........\n",
      ".........BB..........BB.........<|im_end|>\n"
     ]
    }
   ],
   "source": [
    "print(response[0])"
   ]
  },
  {
   "cell_type": "code",
   "execution_count": 8,
   "metadata": {},
   "outputs": [],
   "source": [
    "level = extract_level_representation(response[0], model_type=\"qwen-2.5\", orientation=\"horizontal\", separator=\"\\n\")"
   ]
  },
  {
   "cell_type": "code",
   "execution_count": 9,
   "metadata": {},
   "outputs": [
    {
     "name": "stdout",
     "output_type": "stream",
     "text": [
      "BBBBBB..........................\n",
      "BBBBBB..........................\n",
      "................................\n",
      "................................\n",
      "....BBBBBBBBBB..BBBBBBBBBBBB....\n",
      "....BBBBBBBBBB..BBBBBBBBBBBB....\n",
      "................................\n",
      "................................\n",
      "................................\n",
      "................................\n",
      "................................\n",
      "................................\n",
      ".........BBBBBBBBBBBBBB.........\n",
      ".........BBBBBBBBBBBBBB.........\n",
      ".........BB..........BB.........\n",
      ".........BB..........BB.........\n",
      ".........BB..........BB.........\n",
      ".........BB..........BB.........\n",
      "................................\n",
      "................................\n",
      "................................\n",
      "................................\n",
      "....BBBBBBBBBB..BBBBBBBBBBBB....\n",
      "....BBBBBBBBBB..BBBBBBBBBBBB....\n",
      "................................\n",
      "................................\n",
      "................................\n",
      "................................\n",
      "................................\n",
      ".........BBBBBBBBBBBBBB.........\n",
      ".........BBBBBBBBBBBBBB.........\n",
      ".........BB..........BB.........\n",
      ".........BB..........BB.........\n",
      ".........BB..........BB.........\n"
     ]
    }
   ],
   "source": [
    "print(level)"
   ]
  },
  {
   "cell_type": "code",
   "execution_count": 10,
   "metadata": {},
   "outputs": [
    {
     "name": "stdout",
     "output_type": "stream",
     "text": [
      "BBBBBB......................\n",
      "BBBBBB......................\n",
      "............................\n",
      "............................\n",
      "....BBBBBBBBBB..BBBBBBBBBBBB\n",
      "....BBBBBBBBBB..BBBBBBBBBBBB\n",
      "............................\n",
      "............................\n",
      "............................\n",
      "............................\n",
      "............................\n",
      "............................\n",
      ".........BBBBBBBBBBBBBB.....\n",
      ".........BBBBBBBBBBBBBB.....\n",
      ".........BB..........BB.....\n",
      ".........BB..........BB.....\n",
      ".........BB..........BB.....\n",
      ".........BB..........BB.....\n",
      "............................\n",
      "............................\n",
      "............................\n",
      "............................\n",
      "....BBBBBBBBBB..BBBBBBBBBBBB\n",
      "....BBBBBBBBBB..BBBBBBBBBBBB\n",
      "............................\n",
      "............................\n",
      "............................\n",
      "............................\n",
      "............................\n",
      ".........BBBBBBBBBBBBBB.....\n",
      ".........BBBBBBBBBBBBBB.....\n",
      ".........BB..........BB.....\n",
      ".........BB..........BB.....\n",
      ".........BB..........BB.....\n"
     ]
    }
   ],
   "source": [
    "fixed_level = fix_level_format(level, empty_space='.')\n",
    "print(fixed_level)"
   ]
  },
  {
   "cell_type": "code",
   "execution_count": 11,
   "metadata": {},
   "outputs": [
    {
     "data": {
      "image/jpeg": "[encoded data removed]",
      "image/png": "[encoded data removed]",
      "text/plain": [
       "<PIL.Image.Image image mode=RGB size=448x544>"
      ]
     },
     "metadata": {},
     "output_type": "display_data"
    }
   ],
   "source": [
    "from IPython.display import display\n",
    "\n",
    "# Call the function and extract the image\n",
    "img, _, _ = convert_rainbowisland_to_png(fixed_level)\n",
    "\n",
    "# Display the image in the notebook\n",
    "display(img)"
   ]
  }
 ],
 "metadata": {
  "kernelspec": {
   "display_name": "unsloth",
   "language": "python",
   "name": "python3"
  },
  "language_info": {
   "codemirror_mode": {
    "name": "ipython",
    "version": 3
   },
   "file_extension": ".py",
   "mimetype": "text/x-python",
   "name": "python",
   "nbconvert_exporter": "python",
   "pygments_lexer": "ipython3",
   "version": "3.11.11"
  }
 },
 "nbformat": 4,
 "nbformat_minor": 2
}
