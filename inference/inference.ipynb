{
 "cells": [
  {
   "cell_type": "markdown",
   "metadata": {},
   "source": [
    "#### Variaveis para mudar:\n",
    "\n",
    "chunk_size (tamanho da linha, dependendo se for vertical ou horizontal muda)\n",
    "<br>\n",
    "save_model_name (nome do modelo)\n",
    "<br>\n",
    "orientation (vertical ou horizontal)"
   ]
  },
  {
   "cell_type": "code",
   "execution_count": 1,
   "metadata": {},
   "outputs": [],
   "source": [
    "from inference_utils import extract_level_representation, fix_level_format, fix_level_format_extra\n",
    "from create_img import convert_kidicarus_to_png, convert_loderunner_to_png, convert_mario_to_png, convert_rainbowisland_to_png"
   ]
  },
  {
   "cell_type": "code",
   "execution_count": 2,
   "metadata": {},
   "outputs": [
    {
     "name": "stdout",
     "output_type": "stream",
     "text": [
      "🦥 Unsloth: Will patch your computer to enable 2x faster free finetuning.\n"
     ]
    },
    {
     "name": "stderr",
     "output_type": "stream",
     "text": [
      "/home/pressprexx/miniconda3/envs/unsloth/lib/python3.11/site-packages/tqdm/auto.py:21: TqdmWarning: IProgress not found. Please update jupyter and ipywidgets. See https://ipywidgets.readthedocs.io/en/stable/user_install.html\n",
      "  from .autonotebook import tqdm as notebook_tqdm\n"
     ]
    },
    {
     "name": "stdout",
     "output_type": "stream",
     "text": [
      "🦥 Unsloth Zoo will now patch everything to make training faster!\n"
     ]
    }
   ],
   "source": [
    "from unsloth import FastLanguageModel\n",
    "import torch\n",
    "import os\n",
    "from huggingface_hub import login\n",
    "from unsloth.chat_templates import get_chat_template\n",
    "from datasets import load_dataset\n",
    "from unsloth.chat_templates import standardize_sharegpt\n",
    "from trl import SFTTrainer\n",
    "from transformers import TrainingArguments, DataCollatorForSeq2Seq\n",
    "from unsloth import is_bfloat16_supported\n",
    "from unsloth.chat_templates import train_on_responses_only"
   ]
  },
  {
   "cell_type": "code",
   "execution_count": 3,
   "metadata": {},
   "outputs": [],
   "source": [
    "save_model_name = \"../models/mario/Llama-3.1-8B-Instruct-unsloth-bnb-4bit-mario-teste1\""
   ]
  },
  {
   "cell_type": "code",
   "execution_count": 4,
   "metadata": {},
   "outputs": [
    {
     "name": "stdout",
     "output_type": "stream",
     "text": [
      "==((====))==  Unsloth 2025.4.7: Fast Llama patching. Transformers: 4.51.3.\n",
      "   \\\\   /|    NVIDIA GeForce RTX 3090. Num GPUs = 1. Max memory: 23.677 GB. Platform: Linux.\n",
      "O^O/ \\_/ \\    Torch: 2.6.0+cu124. CUDA: 8.6. CUDA Toolkit: 12.4. Triton: 3.2.0\n",
      "\\        /    Bfloat16 = TRUE. FA [Xformers = 0.0.29.post3. FA2 = False]\n",
      " \"-____-\"     Free license: http://github.com/unslothai/unsloth\n",
      "Unsloth: Fast downloading is enabled - ignore downloading bars which are red colored!\n"
     ]
    },
    {
     "name": "stderr",
     "output_type": "stream",
     "text": [
      "Unsloth 2025.4.7 patched 32 layers with 32 QKV layers, 32 O layers and 32 MLP layers.\n"
     ]
    }
   ],
   "source": [
    "max_seq_length = 2048 # Choose any! We auto support RoPE Scaling internally!\n",
    "dtype = None # None for auto detection. Float16 for Tesla T4, V100, Bfloat16 for Ampere+\n",
    "load_in_4bit = True # Use 4bit quantization to reduce memory usage. Can be False.\n",
    "\n",
    "if True:\n",
    "    model, tokenizer = FastLanguageModel.from_pretrained(\n",
    "        model_name = save_model_name, # YOUR MODEL YOU USED FOR TRAINING\n",
    "        max_seq_length = max_seq_length,\n",
    "        dtype = dtype,\n",
    "        load_in_4bit = load_in_4bit,\n",
    "    )\n",
    "    FastLanguageModel.for_inference(model) # Enable native 2x faster inference"
   ]
  },
  {
   "cell_type": "code",
   "execution_count": 5,
   "metadata": {},
   "outputs": [
    {
     "name": "stderr",
     "output_type": "stream",
     "text": [
      "The attention mask is not set and cannot be inferred from input because pad token is same as eos token. As a consequence, you may observe unexpected behavior. Please pass your input's `attention_mask` to obtain reliable results.\n"
     ]
    }
   ],
   "source": [
    "messages = [\n",
    "    {\"role\": \"user\", \"content\": \"Create a level\"},\n",
    "]\n",
    "inputs = tokenizer.apply_chat_template(\n",
    "    messages,\n",
    "    tokenize = True,\n",
    "    add_generation_prompt = True, # Must add for generation\n",
    "    return_tensors = \"pt\",\n",
    ").to(\"cuda\")\n",
    "\n",
    "\n",
    "outputs = model.generate(input_ids = inputs, max_new_tokens = 4096, use_cache = True,\n",
    "                         temperature = 1.0, min_p = 0.1)\n",
    "response = tokenizer.batch_decode(outputs)"
   ]
  },
  {
   "cell_type": "code",
   "execution_count": 6,
   "metadata": {},
   "outputs": [
    {
     "name": "stdout",
     "output_type": "stream",
     "text": [
      "<|begin_of_text|><|start_header_id|>system<|end_header_id|>\n",
      "\n",
      "Cutting Knowledge Date: December 2023\n",
      "Today Date: 26 July 2024\n",
      "\n",
      "<|eot_id|><|start_header_id|>user<|end_header_id|>\n",
      "\n",
      "Create a level<|eot_id|><|start_header_id|>assistant<|end_header_id|>\n",
      "\n",
      "--------------------------------------------------\n",
      "--------------------------------------------------\n",
      "--------------------------------------------------\n",
      "--------------------------------------------------\n",
      "--------------------------------------------------\n",
      "----------------------------------------XX-------\n",
      "---------------------------------------XXX-------\n",
      "--------------------------------------XXXX-------\n",
      "-------------------------------------XXXXX-------\n",
      "------------------------------------XXXXXX---S---\n",
      "----------------E---------------E--XXXXXX-------\n",
      "-------------------------------E--XXXXXXXX-------\n",
      "-------------------------XXXXXXXXXXXXXXXXXXXXXXX\n",
      "-------------------------XXXXXXXXXXXXXXXXXXXXXXX<|eot_id|>\n"
     ]
    }
   ],
   "source": [
    "print(response[0])"
   ]
  },
  {
   "cell_type": "code",
   "execution_count": 7,
   "metadata": {},
   "outputs": [],
   "source": [
    "level = extract_level_representation(response[0], model_type=\"llama-3\", orientation=\"horizontal\", separator=\"\\n\")"
   ]
  },
  {
   "cell_type": "code",
   "execution_count": 8,
   "metadata": {},
   "outputs": [
    {
     "name": "stdout",
     "output_type": "stream",
     "text": [
      "--------------------------------------------------\n",
      "--------------------------------------------------\n",
      "--------------------------------------------------\n",
      "--------------------------------------------------\n",
      "--------------------------------------------------\n",
      "----------------------------------------XX-------\n",
      "---------------------------------------XXX-------\n",
      "--------------------------------------XXXX-------\n",
      "-------------------------------------XXXXX-------\n",
      "------------------------------------XXXXXX---S---\n",
      "----------------E---------------E--XXXXXX-------\n",
      "-------------------------------E--XXXXXXXX-------\n",
      "-------------------------XXXXXXXXXXXXXXXXXXXXXXX\n",
      "-------------------------XXXXXXXXXXXXXXXXXXXXXXX\n"
     ]
    }
   ],
   "source": [
    "print(level)"
   ]
  },
  {
   "cell_type": "code",
   "execution_count": 9,
   "metadata": {},
   "outputs": [],
   "source": [
    "# Mario\n",
    "fixed_level = fix_level_format_extra(level, empty_space='-', line_quantity=14, column_quantity=50, enforce_shape=\"both\", add_ground=\"X\")\n",
    "\n",
    "# Loderunner\n",
    "# fixed_level = fix_level_format_extra(level, empty_space='-', line_quantity=22, column_quantity=32, enforce_shape=\"both\", add_ground=\"X\")\n",
    "\n",
    "# Kidicarus\n",
    "# fixed_level = fix_level_format_extra(level, empty_space='-', line_quantity=20, column_quantity=16, enforce_shape=\"both\", add_ground=\"X\")\n",
    "\n",
    "# Rainbow Island\n",
    "# fixed_level = fix_level_format_extra(level, empty_space='-', line_quantity=35, column_quantity=32, enforce_shape=\"both\", add_ground=\"X\")"
   ]
  },
  {
   "cell_type": "code",
   "execution_count": 10,
   "metadata": {},
   "outputs": [
    {
     "data": {
      "image/jpeg": "[encoded data removed]",
      "image/png": "[encoded data removed]",
      "text/plain": [
       "<PIL.Image.Image image mode=RGB size=800x224>"
      ]
     },
     "metadata": {},
     "output_type": "display_data"
    }
   ],
   "source": [
    "from IPython.display import display\n",
    "\n",
    "# Call the function and extract the image\n",
    "img, _, _ = convert_mario_to_png(fixed_level)\n",
    "\n",
    "# Display the image in the notebook\n",
    "display(img)"
   ]
  },
  {
   "cell_type": "markdown",
   "metadata": {},
   "source": [
    "### Metrics"
   ]
  },
  {
   "cell_type": "code",
   "execution_count": 11,
   "metadata": {},
   "outputs": [],
   "source": [
    "from metrics import SampledLevelEvaluator\n",
    "from metrics import print_level_from_columns\n",
    "\n",
    "def print_in_chunks(s, chunk_size=50):\n",
    "    for i in range(0, len(s), chunk_size):\n",
    "        print(s[i:i+chunk_size])"
   ]
  },
  {
   "cell_type": "code",
   "execution_count": 12,
   "metadata": {},
   "outputs": [],
   "source": [
    "# Settings (Mude dependendo do seu modelo)\n",
    "\n",
    "orientation = 'horizontal'\n",
    "\n",
    "horizontal_var = \"str_horizontal_nosplit\"\n",
    "vertical_var = \"str_vertical_nosplit\"\n",
    "\n",
    "data_path = '../level_json/mario/mario1and2.json'\n",
    "seperator = \"\\n\"\n",
    "level_to_evaluate = fixed_level"
   ]
  },
  {
   "cell_type": "code",
   "execution_count": 13,
   "metadata": {},
   "outputs": [
    {
     "name": "stdout",
     "output_type": "stream",
     "text": [
      "['--------------------------------------------------', '--------------------------------------------------', '--------------------------------------------------', '--------------------------------------------------', '--------------------------------------------------', '------------------------------------XX------------', '------------------------------------XX------------', '----------------------------------X-XX------------', '----------------------------------X-XX------------', '---------------E----------------X-X-XX------------', '--------------<>----------E-----X-X-XX------------', '--------------[]---------<>---X-X-X-XX------------', '-E------E-EE--[]---------[]---X-X-X-XX--------X---', 'XXXXXXXXXXXXXXXXXXXXXXXXXXXXX-X-X-X-XXXXXXXXXXXXXX']\n",
      "----------------------------------------------------------------------------------------------------------------------------------------------------------------------------------------------------------------------------------------------------------------------------------------------XX------------------------------------------------XX----------------------------------------------X-XX----------------------------------------------X-XX---------------------------E----------------X-X-XX--------------------------<>----------E-----X-X-XX--------------------------[]---------<>---X-X-X-XX-------------E------E-EE--[]---------[]---X-X-X-XX--------X---XXXXXXXXXXXXXXXXXXXXXXXXXXXXX-X-X-X-XXXXXXXXXXXXXX\n"
     ]
    }
   ],
   "source": [
    "import json\n",
    "\n",
    "sample_list = []\n",
    "with open(data_path, 'r') as f:\n",
    "    level_data = json.load(f)\n",
    "\n",
    "print(level_data[-1]['window'])\n",
    "\n",
    "for level in level_data:\n",
    "    if orientation == 'horizontal':\n",
    "        str_level = level[horizontal_var]\n",
    "    else:\n",
    "        str_level = level[vertical_var]\n",
    "    sample_list.append(str_level)\n",
    "\n",
    "print(sample_list[-1])"
   ]
  },
  {
   "cell_type": "code",
   "execution_count": 14,
   "metadata": {},
   "outputs": [
    {
     "name": "stdout",
     "output_type": "stream",
     "text": [
      "--------------------------------------------------\n",
      "--------------------------------------------------\n",
      "--------------------------------------------------\n",
      "--------------------------------------------------\n",
      "--------------------------------------------------\n",
      "----------------------------------------XX--------\n",
      "---------------------------------------XXX--------\n",
      "--------------------------------------XXXX--------\n",
      "-------------------------------------XXXXX--------\n",
      "------------------------------------XXXXXX---S----\n",
      "----------------E---------------E--XXXXXX---------\n",
      "-------------------------------E--XXXXXXXX--------\n",
      "-------------------------XXXXXXXXXXXXXXXXXXXXXXX--\n",
      "-------------------------XXXXXXXXXXXXXXXXXXXXXXXXX\n"
     ]
    }
   ],
   "source": [
    "evaluation_level = level_to_evaluate.replace(seperator, '')\n",
    "evaluator = SampledLevelEvaluator()\n",
    "\n",
    "print(level_to_evaluate)"
   ]
  },
  {
   "cell_type": "code",
   "execution_count": 15,
   "metadata": {},
   "outputs": [
    {
     "name": "stdout",
     "output_type": "stream",
     "text": [
      "700\n",
      "700\n",
      "700\n"
     ]
    }
   ],
   "source": [
    "# ATENÇÃO - Verifique que as fases do dataset e a fase gerada são do mesmo tamanho\n",
    "\n",
    "print(len(sample_list[0]))\n",
    "print(len(sample_list[1]))\n",
    "print(len(evaluation_level))"
   ]
  },
  {
   "cell_type": "code",
   "execution_count": 16,
   "metadata": {},
   "outputs": [
    {
     "name": "stderr",
     "output_type": "stream",
     "text": [
      "Calculating metrics (sequential): 100%|██████████| 5609/5609 [00:00<00:00, 7177.02it/s]\n",
      "Finding best metrics: 100%|██████████| 5609/5609 [00:00<00:00, 4122279.86it/s]\n"
     ]
    }
   ],
   "source": [
    "best_metrics = evaluator.evaluate_sample_on_dataset(sample_list, evaluation_level, metrics=[\"hamming_distance\"])"
   ]
  },
  {
   "cell_type": "code",
   "execution_count": 17,
   "metadata": {},
   "outputs": [
    {
     "name": "stdout",
     "output_type": "stream",
     "text": [
      "{'hamming_distance': {'score': 40, 'level': '--------------------------------------------------------------------------------------------------------------------------------------------------------------------------------------------------------------------------------------------------------------------------------------------------XX-----------------------------------------------XXX----------------------------------------------XXXX---------------------------------------------XXXXX--------------------------------------------XXXXXX---S------------------X--------------------XXXXXXX----------------------X-------------------XXXXXXXX----------------------X------------------XXXXXXXXX----------XXX--XXXXXXXX--XXXXXXXXXXXXXXXXXXXXXXXXXXXXXXXXX'}}\n"
     ]
    }
   ],
   "source": [
    "print(best_metrics)"
   ]
  },
  {
   "cell_type": "code",
   "execution_count": 18,
   "metadata": {},
   "outputs": [
    {
     "name": "stdout",
     "output_type": "stream",
     "text": [
      "\n",
      "Best metrics on dataset windows:\n",
      "\n",
      "\n",
      "****************************************************************************************************\n",
      "\n",
      "\n",
      "hamming_distance => Score: 40, Level: \n",
      "--------------------------------------------------\n",
      "--------------------------------------------------\n",
      "--------------------------------------------------\n",
      "--------------------------------------------------\n",
      "--------------------------------------------------\n",
      "----------------------------------------XX--------\n",
      "---------------------------------------XXX--------\n",
      "--------------------------------------XXXX--------\n",
      "-------------------------------------XXXXX--------\n",
      "------------------------------------XXXXXX---S----\n",
      "--------------X--------------------XXXXXXX--------\n",
      "--------------X-------------------XXXXXXXX--------\n",
      "--------------X------------------XXXXXXXXX--------\n",
      "--XXX--XXXXXXXX--XXXXXXXXXXXXXXXXXXXXXXXXXXXXXXXXX\n",
      "\n",
      " Original Level:\n",
      "--------------------------------------------------\n",
      "--------------------------------------------------\n",
      "--------------------------------------------------\n",
      "--------------------------------------------------\n",
      "--------------------------------------------------\n",
      "----------------------------------------XX--------\n",
      "---------------------------------------XXX--------\n",
      "--------------------------------------XXXX--------\n",
      "-------------------------------------XXXXX--------\n",
      "------------------------------------XXXXXX---S----\n",
      "----------------E---------------E--XXXXXX---------\n",
      "-------------------------------E--XXXXXXXX--------\n",
      "-------------------------XXXXXXXXXXXXXXXXXXXXXXX--\n",
      "-------------------------XXXXXXXXXXXXXXXXXXXXXXXXX\n"
     ]
    }
   ],
   "source": [
    "print(\"\\nBest metrics on dataset windows:\")\n",
    "\n",
    "for metric, data in best_metrics.items():\n",
    "    print(f'\\n\\n{\"*\"*100}\\n')\n",
    "    print(f\"\\n{metric} => Score: {data['score']}, Level: \")\n",
    "    print_in_chunks(data['level'], chunk_size=50)\n",
    "    print(f'\\n Original Level:')\n",
    "    print(level_to_evaluate)"
   ]
  },
  {
   "cell_type": "markdown",
   "metadata": {},
   "source": [
    "### Gerar imagem comparativo"
   ]
  },
  {
   "cell_type": "code",
   "execution_count": 19,
   "metadata": {},
   "outputs": [
    {
     "name": "stdout",
     "output_type": "stream",
     "text": [
      "--------------------------------------------------\n",
      "--------------------------------------------------\n",
      "--------------------------------------------------\n",
      "--------------------------------------------------\n",
      "--------------------------------------------------\n",
      "----------------------------------------XX--------\n",
      "---------------------------------------XXX--------\n",
      "--------------------------------------XXXX--------\n",
      "-------------------------------------XXXXX--------\n",
      "------------------------------------XXXXXX---S----\n",
      "--------------X--------------------XXXXXXX--------\n",
      "--------------X-------------------XXXXXXXX--------\n",
      "--------------X------------------XXXXXXXXX--------\n",
      "--XXX--XXXXXXXX--XXXXXXXXXXXXXXXXXXXXXXXXXXXXXXXXX\n"
     ]
    }
   ],
   "source": [
    "def chunk_string(s, chunk_size=50, separator=\"\\n\"):\n",
    "    chunks = [s[i:i+chunk_size] for i in range(0, len(s), chunk_size)]\n",
    "    return separator.join(chunks)\n",
    "\n",
    "most_similar_for_image = best_metrics['hamming_distance']['level']\n",
    "most_similar_for_image = chunk_string(most_similar_for_image, chunk_size=50)\n",
    "print(most_similar_for_image)"
   ]
  },
  {
   "cell_type": "code",
   "execution_count": 20,
   "metadata": {},
   "outputs": [
    {
     "data": {
      "image/jpeg": "[encoded data removed]",
      "image/png": "[encoded data removed]",
      "text/plain": [
       "<PIL.Image.Image image mode=RGB size=800x224>"
      ]
     },
     "metadata": {},
     "output_type": "display_data"
    },
    {
     "data": {
      "image/jpeg": "[encoded data removed]",
      "image/png": "[encoded data removed]",
      "text/plain": [
       "<PIL.Image.Image image mode=RGB size=800x224>"
      ]
     },
     "metadata": {},
     "output_type": "display_data"
    }
   ],
   "source": [
    "# img1, _, _ = convert_rainbowisland_to_png(fixed_level)\n",
    "img2, _, _ = convert_mario_to_png(most_similar_for_image)\n",
    "\n",
    "# Display the image in the notebook\n",
    "display(img)\n",
    "display(img2)"
   ]
  },
  {
   "cell_type": "code",
   "execution_count": 21,
   "metadata": {},
   "outputs": [
    {
     "name": "stdout",
     "output_type": "stream",
     "text": [
      "--------------------------------------------------\n",
      "--------------------------------------------------\n",
      "--------------XXXXXXXXXXXXXXXXXXXXXXXXXXXXXX------\n",
      "--------------XXXXXXXXXXXXXXXXXXXXXXXXXXXXXX------\n",
      "--------------XXXXXXXXXXXXXXXXXXXXXXXXXXXXXX------\n",
      "------------S-XXXXXXXXXXXXXXXXXXXXXXXXXXXXXX------\n",
      "--------------XXXXXXXXXXXXXXXXXXXXXXXXXXXXXX------\n",
      "--------------XXXXXXXXXXXXXXXXXXXXXXXXXXXXXX------\n",
      "-----------S--XXXXXXXXXXXXXXXXXXXXXXXXXXXXXX------\n",
      "--------------XXXXXXXXXXXXXXXXXXXXXXXXXXXXXX------\n",
      "--------------XXXXXXXXXXXXXXXXXXXXXXXXXXXXXX------\n",
      "------------E-XXXXXXXXXXXXXXXXXXXXXXXXXXXXXX------\n",
      "--------------XXXXXXXXXXXXXXXXXXXXXXXXXXXXXX------\n",
      "XXXXXXXXXXXXXXXXXXXXXXXXXXXXXXXXXXXXXXXXXXXX--XXXX\n"
     ]
    }
   ],
   "source": [
    "copy_level = \"------------------------------------------------------------------------------------------------------------------XXXXXXXXXXXXXXXXXXXXXXXXXXXXXX--------------------XXXXXXXXXXXXXXXXXXXXXXXXXXXXXX--------------------XXXXXXXXXXXXXXXXXXXXXXXXXXXXXX------------------S-XXXXXXXXXXXXXXXXXXXXXXXXXXXXXX--------------------XXXXXXXXXXXXXXXXXXXXXXXXXXXXXX--------------------XXXXXXXXXXXXXXXXXXXXXXXXXXXXXX-----------------S--XXXXXXXXXXXXXXXXXXXXXXXXXXXXXX--------------------XXXXXXXXXXXXXXXXXXXXXXXXXXXXXX--------------------XXXXXXXXXXXXXXXXXXXXXXXXXXXXXX------------------E-XXXXXXXXXXXXXXXXXXXXXXXXXXXXXX--------------------XXXXXXXXXXXXXXXXXXXXXXXXXXXXXX------XXXXXXXXXXXXXXXXXXXXXXXXXXXXXXXXXXXXXXXXXXXX--XXXX\"\n",
    "\n",
    "copy_image_chunked = chunk_string(copy_level, chunk_size=50)\n",
    "print(copy_image_chunked)"
   ]
  },
  {
   "cell_type": "code",
   "execution_count": 22,
   "metadata": {},
   "outputs": [
    {
     "name": "stdout",
     "output_type": "stream",
     "text": [
      "--------------------------------------------------\n",
      "--------------------------------------------------\n",
      "-----------------XXXXXXXXXXXXXXXXXXXXXXXXXXX------\n",
      "-----------------XXXXXXXXXXXXXXXXXXXXXXXXXXX------\n",
      "-----------------XXXXXXXXXXXXXXXXXXXXXXXXXXX------\n",
      "---------------S-XXXXXXXXXXXXXXXXXXXXXXXXXXX------\n",
      "-----------------XXXXXXXXXXXXXXXXXXXXXXXXXXX------\n",
      "-----------------XXXXXXXXXXXXXXXXXXXXXXXXXXX------\n",
      "--------------S--XXXXXXXXXXXXXXXXXXXXXXXXXXX------\n",
      "-----------------XXXXXXXXXXXXXXXXXXXXXXXXXXX------\n",
      "-----------------XXXXXXXXXXXXXXXXXXXXXXXXXXX------\n",
      "---------------E-XXXXXXXXXXXXXXXXXXXXXXXXXXX------\n",
      "-----------------XXXXXXXXXXXXXXXXXXXXXXXXXXX------\n",
      "XXXXXXXXXXXXXXXXXXXXXXXXXXXXXXXXXXXXXXXXXXXX--XXXX\n"
     ]
    }
   ],
   "source": [
    "original_level = \"---------------------------------------------------------------------------------------------------------------------XXXXXXXXXXXXXXXXXXXXXXXXXXX-----------------------XXXXXXXXXXXXXXXXXXXXXXXXXXX-----------------------XXXXXXXXXXXXXXXXXXXXXXXXXXX---------------------S-XXXXXXXXXXXXXXXXXXXXXXXXXXX-----------------------XXXXXXXXXXXXXXXXXXXXXXXXXXX-----------------------XXXXXXXXXXXXXXXXXXXXXXXXXXX--------------------S--XXXXXXXXXXXXXXXXXXXXXXXXXXX-----------------------XXXXXXXXXXXXXXXXXXXXXXXXXXX-----------------------XXXXXXXXXXXXXXXXXXXXXXXXXXX---------------------E-XXXXXXXXXXXXXXXXXXXXXXXXXXX-----------------------XXXXXXXXXXXXXXXXXXXXXXXXXXX------XXXXXXXXXXXXXXXXXXXXXXXXXXXXXXXXXXXXXXXXXXXX--XXXX\"\n",
    "\n",
    "original_image_chunked = chunk_string(original_level, chunk_size=50)\n",
    "print(original_image_chunked)"
   ]
  },
  {
   "cell_type": "code",
   "execution_count": 23,
   "metadata": {},
   "outputs": [],
   "source": [
    "column_analysis = evaluator.column_analysis(\n",
    "    level_str=original_level,\n",
    "    reference_str=copy_level,\n",
    "    analyse_consecutive=True,\n",
    "    line_size=50,\n",
    "    progression_type=\"horizontal\"\n",
    ")"
   ]
  },
  {
   "cell_type": "code",
   "execution_count": 29,
   "metadata": {},
   "outputs": [
    {
     "name": "stdout",
     "output_type": "stream",
     "text": [
      "{'total_columns': 50, 'matching_columns': 50, 'matching_ratio': 1.0, 'matching_sequences': ['-------------X', '-------------X', '-------------X', '-------------X', '-------------X', '-------------X', '-------------X', '-------------X', '-------------X', '-------------X', '-------------X', '-------------X', '-------------X', '-------------X', '--------S----X', '-----S-----E-X', '-------------X', '--XXXXXXXXXXXX', '--XXXXXXXXXXXX', '--XXXXXXXXXXXX', '--XXXXXXXXXXXX', '--XXXXXXXXXXXX', '--XXXXXXXXXXXX', '--XXXXXXXXXXXX', '--XXXXXXXXXXXX', '--XXXXXXXXXXXX', '--XXXXXXXXXXXX', '--XXXXXXXXXXXX', '--XXXXXXXXXXXX', '--XXXXXXXXXXXX', '--XXXXXXXXXXXX', '--XXXXXXXXXXXX', '--XXXXXXXXXXXX', '--XXXXXXXXXXXX', '--XXXXXXXXXXXX', '--XXXXXXXXXXXX', '--XXXXXXXXXXXX', '--XXXXXXXXXXXX', '--XXXXXXXXXXXX', '--XXXXXXXXXXXX', '--XXXXXXXXXXXX', '--XXXXXXXXXXXX', '--XXXXXXXXXXXX', '--XXXXXXXXXXXX', '--------------', '--------------', '-------------X', '-------------X', '-------------X', '-------------X'], 'max_consecutive_matches': 41, 'consecutive_ratio': 0.82, 'longest_consecutive_sequence': ['-------------X', '-------------X', '-------------X', '-------------X', '-------------X', '-------------X', '-------------X', '-------------X', '-------------X', '-------------X', '-------------X', '--------S----X', '-----S-----E-X', '-------------X', '--XXXXXXXXXXXX', '--XXXXXXXXXXXX', '--XXXXXXXXXXXX', '--XXXXXXXXXXXX', '--XXXXXXXXXXXX', '--XXXXXXXXXXXX', '--XXXXXXXXXXXX', '--XXXXXXXXXXXX', '--XXXXXXXXXXXX', '--XXXXXXXXXXXX', '--XXXXXXXXXXXX', '--XXXXXXXXXXXX', '--XXXXXXXXXXXX', '--XXXXXXXXXXXX', '--XXXXXXXXXXXX', '--XXXXXXXXXXXX', '--XXXXXXXXXXXX', '--XXXXXXXXXXXX', '--XXXXXXXXXXXX', '--XXXXXXXXXXXX', '--XXXXXXXXXXXX', '--XXXXXXXXXXXX', '--XXXXXXXXXXXX', '--XXXXXXXXXXXX', '--XXXXXXXXXXXX', '--XXXXXXXXXXXX', '--XXXXXXXXXXXX']}\n",
      "1.0\n",
      "0.82\n"
     ]
    }
   ],
   "source": [
    "print(column_analysis)\n",
    "print(column_analysis[\"matching_ratio\"])\n",
    "print(column_analysis[\"consecutive_ratio\"])"
   ]
  },
  {
   "cell_type": "code",
   "execution_count": null,
   "metadata": {},
   "outputs": [
    {
     "name": "stdout",
     "output_type": "stream",
     "text": [
      "--------------------------------------------------\n",
      "--------------------------------------------------\n",
      "-----------------XXXXXXXXXXXXXXXXXXXXXXXXXXX------\n",
      "-----------------XXXXXXXXXXXXXXXXXXXXXXXXXXX------\n",
      "-----------------XXXXXXXXXXXXXXXXXXXXXXXXXXX------\n",
      "---------------S-XXXXXXXXXXXXXXXXXXXXXXXXXXX------\n",
      "-----------------XXXXXXXXXXXXXXXXXXXXXXXXXXX------\n",
      "-----------------XXXXXXXXXXXXXXXXXXXXXXXXXXX------\n",
      "--------------S--XXXXXXXXXXXXXXXXXXXXXXXXXXX------\n",
      "-----------------XXXXXXXXXXXXXXXXXXXXXXXXXXX------\n",
      "-----------------XXXXXXXXXXXXXXXXXXXXXXXXXXX------\n",
      "---------------E-XXXXXXXXXXXXXXXXXXXXXXXXXXX------\n",
      "-----------------XXXXXXXXXXXXXXXXXXXXXXXXXXX------\n",
      "XXXXXXXXXXXXXXXXXXXXXXXXXXXXXXXXXXXXXXXXXXXX--XXXX\n"
     ]
    }
   ],
   "source": [
    "print_level_from_columns(column_analysis[\"matching_sequences\"])"
   ]
  },
  {
   "cell_type": "code",
   "execution_count": 28,
   "metadata": {},
   "outputs": [
    {
     "name": "stdout",
     "output_type": "stream",
     "text": [
      "-----------------------------------------\n",
      "-----------------------------------------\n",
      "--------------XXXXXXXXXXXXXXXXXXXXXXXXXXX\n",
      "--------------XXXXXXXXXXXXXXXXXXXXXXXXXXX\n",
      "--------------XXXXXXXXXXXXXXXXXXXXXXXXXXX\n",
      "------------S-XXXXXXXXXXXXXXXXXXXXXXXXXXX\n",
      "--------------XXXXXXXXXXXXXXXXXXXXXXXXXXX\n",
      "--------------XXXXXXXXXXXXXXXXXXXXXXXXXXX\n",
      "-----------S--XXXXXXXXXXXXXXXXXXXXXXXXXXX\n",
      "--------------XXXXXXXXXXXXXXXXXXXXXXXXXXX\n",
      "--------------XXXXXXXXXXXXXXXXXXXXXXXXXXX\n",
      "------------E-XXXXXXXXXXXXXXXXXXXXXXXXXXX\n",
      "--------------XXXXXXXXXXXXXXXXXXXXXXXXXXX\n",
      "XXXXXXXXXXXXXXXXXXXXXXXXXXXXXXXXXXXXXXXXX\n"
     ]
    }
   ],
   "source": [
    "print_level_from_columns(column_analysis[\"longest_consecutive_sequence\"])"
   ]
  }
 ],
 "metadata": {
  "kernelspec": {
   "display_name": "unsloth",
   "language": "python",
   "name": "python3"
  },
  "language_info": {
   "codemirror_mode": {
    "name": "ipython",
    "version": 3
   },
   "file_extension": ".py",
   "mimetype": "text/x-python",
   "name": "python",
   "nbconvert_exporter": "python",
   "pygments_lexer": "ipython3",
   "version": "3.11.11"
  }
 },
 "nbformat": 4,
 "nbformat_minor": 2
}
