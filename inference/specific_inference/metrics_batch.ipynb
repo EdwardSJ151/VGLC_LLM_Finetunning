{
 "cells": [
  {
   "cell_type": "code",
   "execution_count": null,
   "metadata": {},
   "outputs": [
    {
     "name": "stderr",
     "output_type": "stream",
     "text": [
      "/home/pressprexx/miniconda3/envs/mario_emb/lib/python3.10/site-packages/tqdm/auto.py:21: TqdmWarning: IProgress not found. Please update jupyter and ipywidgets. See https://ipywidgets.readthedocs.io/en/stable/user_install.html\n",
      "  from .autonotebook import tqdm as notebook_tqdm\n"
     ]
    }
   ],
   "source": [
    "import sys\n",
    "import os\n",
    "import json\n",
    "import torch\n",
    "import tqdm\n",
    "import matplotlib.pyplot as plt\n",
    "\n",
    "os.environ[\"CUDA_VISIBLE_DEVICES\"] = \"0\"\n",
    "\n",
    "similarity_scripts_path = os.path.abspath(\"../similarity_scripts\")\n",
    "sys.path.append(similarity_scripts_path)\n",
    "sys.path.append(os.path.abspath(\"..\"))\n",
    "sys.path.append(os.path.abspath(\"../..\"))\n",
    "\n",
    "from inference.similarity_scripts.level_similarity_search import (\n",
    "    load_json_data,\n",
    "    load_level_search_index,\n",
    "    generate_level_embedding,\n",
    "    search_similar_levels\n",
    ")\n",
    "\n",
    "from inference.create_img import convert_mario_to_png\n",
    "from transformers import AutoProcessor, AutoModelForImageTextToText"
   ]
  },
  {
   "cell_type": "code",
   "execution_count": null,
   "metadata": {},
   "outputs": [],
   "source": [
    "# params\n",
    "input_json_paths = [\n",
    "    \"level_generation_results_20250521_100847.json\",\n",
    "    \"level_generation_results_20250521_100328.json\"\n",
    "    # Add more file paths as needed\n",
    "]\n",
    "\n",
    "game_type = \"mario\" # mario, kid_icarus, lode_runner, rainbow_island, kid_icarus_small\n",
    "path = False"
   ]
  },
  {
   "cell_type": "code",
   "execution_count": 3,
   "metadata": {},
   "outputs": [],
   "source": [
    "# Não mude esses, só se der erro\n",
    "top_k = 5\n",
    "\n",
    "if path:\n",
    "    embedding_dir = f\"../similarity_scripts/embeddings_{game_type}\"\n",
    "else:\n",
    "    embedding_dir = f\"../similarity_scripts/embeddings_{game_type}_path\"\n",
    "\n",
    "\n",
    "def create_level_data(level_string):\n",
    "    rows = level_string.split(\"\\n\")\n",
    "    processed_rows = []\n",
    "    for row in rows:\n",
    "        if \"|\" in row:\n",
    "            parts = [p for p in row.split(\"|\") if p]\n",
    "            processed_rows.extend(parts)\n",
    "        else:\n",
    "            processed_rows.append(row)\n",
    "    \n",
    "    return {\n",
    "        \"window\": rows,\n",
    "        \"level_string\": level_string\n",
    "    }"
   ]
  },
  {
   "cell_type": "code",
   "execution_count": 4,
   "metadata": {},
   "outputs": [
    {
     "name": "stdout",
     "output_type": "stream",
     "text": [
      "Loading models...\n"
     ]
    },
    {
     "name": "stderr",
     "output_type": "stream",
     "text": [
      "Loading checkpoint shards: 100%|██████████| 2/2 [00:00<00:00, 10.14it/s]\n"
     ]
    },
    {
     "name": "stdout",
     "output_type": "stream",
     "text": [
      "Index loaded from ../similarity_scripts/embeddings_mario/level_index.faiss\n",
      "\n",
      "Processing file: level_generation_results_20250521_100847.json\n",
      "Processing 48 levels...\n"
     ]
    },
    {
     "name": "stderr",
     "output_type": "stream",
     "text": [
      "100%|██████████| 48/48 [05:55<00:00,  7.41s/it]\n"
     ]
    },
    {
     "name": "stdout",
     "output_type": "stream",
     "text": [
      "Results saved to with_similarity_level_generation_results_20250521_100847.json\n",
      "\n",
      "Processing file: level_generation_results_20250521_100328.json\n",
      "Processing 48 levels...\n"
     ]
    },
    {
     "name": "stderr",
     "output_type": "stream",
     "text": [
      "100%|██████████| 48/48 [05:55<00:00,  7.42s/it]"
     ]
    },
    {
     "name": "stdout",
     "output_type": "stream",
     "text": [
      "Results saved to with_similarity_level_generation_results_20250521_100328.json\n",
      "\n",
      "All files processed successfully!\n"
     ]
    },
    {
     "name": "stderr",
     "output_type": "stream",
     "text": [
      "\n"
     ]
    }
   ],
   "source": [
    "print(\"Loading models...\")\n",
    "processor = AutoProcessor.from_pretrained(\"HuggingFaceTB/SmolVLM2-2.2B-Instruct\")\n",
    "model = AutoModelForImageTextToText.from_pretrained(\"HuggingFaceTB/SmolVLM2-2.2B-Instruct\")\n",
    "\n",
    "index, level_indices = load_level_search_index(f\"{embedding_dir}/level_index.faiss\")\n",
    "\n",
    "def process_level(level_entry):\n",
    "    try:\n",
    "        level_string = level_entry[\"level\"]\n",
    "        level_data = create_level_data(level_string)\n",
    "        \n",
    "        similar_indices, similarities = search_similar_levels(\n",
    "            level_data, model, processor, index, level_indices, game_type, top_k=top_k\n",
    "        )\n",
    "        \n",
    "        level_entry[\"similarity_results\"] = {\n",
    "            \"similar_levels\": [int(idx) for idx in similar_indices],\n",
    "            \"similarity_scores\": [float(score) for score in similarities]\n",
    "        }\n",
    "        \n",
    "        return level_entry\n",
    "    except Exception as e:\n",
    "        print(f\"Error processing level: {str(e)}\")\n",
    "        level_entry[\"similarity_results\"] = {\n",
    "            \"error\": str(e)\n",
    "        }\n",
    "        return level_entry\n",
    "\n",
    "for input_json_path in input_json_paths:\n",
    "    print(f\"\\nProcessing file: {input_json_path}\")\n",
    "    \n",
    "    levels_data = load_json_data(input_json_path)\n",
    "    \n",
    "    print(f\"Processing {len(levels_data)} levels...\")\n",
    "    processed_levels = []\n",
    "\n",
    "    with tqdm.tqdm(total=len(levels_data)) as pbar:\n",
    "        batch_size = 10\n",
    "        for i in range(0, len(levels_data), batch_size):\n",
    "            batch = levels_data[i:i+batch_size]\n",
    "            \n",
    "            for level_entry in batch:\n",
    "                processed_level = process_level(level_entry)\n",
    "                processed_levels.append(processed_level)\n",
    "                pbar.update(1)\n",
    "            \n",
    "            torch.cuda.empty_cache()\n",
    "\n",
    "    output_json = f\"with_similarity_{os.path.basename(input_json_path)}\"\n",
    "    with open(output_json, \"w\") as f:\n",
    "        json.dump(processed_levels, f, indent=2)\n",
    "\n",
    "    print(f\"Results saved to {output_json}\")\n",
    "\n",
    "print(\"\\nAll files processed successfully!\")"
   ]
  }
 ],
 "metadata": {
  "kernelspec": {
   "display_name": "mario_emb",
   "language": "python",
   "name": "python3"
  },
  "language_info": {
   "codemirror_mode": {
    "name": "ipython",
    "version": 3
   },
   "file_extension": ".py",
   "mimetype": "text/x-python",
   "name": "python",
   "nbconvert_exporter": "python",
   "pygments_lexer": "ipython3",
   "version": "3.10.16"
  }
 },
 "nbformat": 4,
 "nbformat_minor": 2
}
